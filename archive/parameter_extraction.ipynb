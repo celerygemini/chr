{
 "cells": [
  {
   "cell_type": "code",
   "execution_count": 1,
   "metadata": {},
   "outputs": [],
   "source": [
    "# importing necessary packages and libraries\n",
    "import numpy as np\n",
    "import pandas as pd\n",
    "import matplotlib.pyplot as plt\n",
    "from keras import models\n",
    "%matplotlib inline"
   ]
  },
  {
   "cell_type": "code",
   "execution_count": 2,
   "metadata": {},
   "outputs": [],
   "source": [
    "# loading iox model\n",
    "iox_model = models.load_model('models/iox_model.h5')"
   ]
  },
  {
   "cell_type": "code",
   "execution_count": 3,
   "metadata": {},
   "outputs": [],
   "source": [
    "# extracting model weights and biases\n",
    "raw_conv1_weights = iox_model.get_weights()[0]\n",
    "raw_conv1_biases = iox_model.get_weights()[1]\n",
    "raw_dense1_weights = iox_model.get_weights()[2]\n",
    "raw_dense1_biases = iox_model.get_weights()[3]\n",
    "raw_dense2_weights = iox_model.get_weights()[4]\n",
    "raw_dense2_biases = iox_model.get_weights()[5]"
   ]
  },
  {
   "cell_type": "code",
   "execution_count": 4,
   "metadata": {},
   "outputs": [],
   "source": [
    "# converting weights and biases to dataframes\n",
    "conv1_weights = pd.DataFrame(raw_conv1_weights.swapaxes(0,2).swapaxes(1,3).reshape(18,3))\n",
    "conv1_biases = pd.DataFrame(raw_conv1_biases)\n",
    "dense1_weights = pd.DataFrame(raw_dense1_weights)\n",
    "dense1_biases = pd.DataFrame(raw_dense1_biases)\n",
    "dense2_weights = pd.DataFrame(raw_dense2_weights)\n",
    "dense2_biases = pd.DataFrame(raw_dense2_biases)"
   ]
  },
  {
   "cell_type": "code",
   "execution_count": 5,
   "metadata": {},
   "outputs": [],
   "source": [
    "# saving dataframes to Excel format\n",
    "conv1_weights.to_excel('data/param_extracts/conv1_weights.xlsx')\n",
    "conv1_biases.to_excel('data/param_extracts/conv1_biases.xlsx')\n",
    "dense1_weights.to_excel('data/param_extracts/dense1_weights.xlsx')\n",
    "dense1_biases.to_excel('data/param_extracts/dense1_biases.xlsx')\n",
    "dense2_weights.to_excel('data/param_extracts/dense2_weights.xlsx')\n",
    "dense2_biases.to_excel('data/param_extracts/dense2_biases.xlsx')"
   ]
  }
 ],
 "metadata": {
  "kernelspec": {
   "display_name": "Python 3 (ipykernel)",
   "language": "python",
   "name": "python3"
  },
  "language_info": {
   "codemirror_mode": {
    "name": "ipython",
    "version": 3
   },
   "file_extension": ".py",
   "mimetype": "text/x-python",
   "name": "python",
   "nbconvert_exporter": "python",
   "pygments_lexer": "ipython3",
   "version": "3.11.2"
  }
 },
 "nbformat": 4,
 "nbformat_minor": 4
}
